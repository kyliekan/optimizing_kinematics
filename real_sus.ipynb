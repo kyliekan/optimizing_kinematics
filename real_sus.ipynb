{
 "cells": [
  {
   "cell_type": "code",
   "execution_count": 1,
   "metadata": {},
   "outputs": [],
   "source": [
    "import pandas as pd\n",
    "import numpy as np"
   ]
  },
  {
   "cell_type": "markdown",
   "metadata": {},
   "source": [
    "<h1> Front Parameters </h1>"
   ]
  },
  {
   "cell_type": "code",
   "execution_count": 2,
   "metadata": {},
   "outputs": [],
   "source": [
    "# frame settings\n",
    "ride_height = 2.9\n",
    "frame_center_lowmount_x = 7.75\n",
    "frame_bottom_lowmount_y = 0\n",
    "frame_center_upmount_x = 10\n",
    "frame_height = 5\n",
    "\n",
    "# control arm settings\n",
    "UCA_length = 13.41\n",
    "LCA_length = 15.7\n",
    "\n",
    "# steering knuckles\n",
    "hub_upper_balljoint_x = 2.6\n",
    "hub_upper_balljoint_y = 3.6\n",
    "hub_lower_balljoint_x = 2.3\n",
    "hub_lower_balljoint_y = 3.75\n",
    "\n",
    "# steering\n",
    "consider = True\n",
    "hub_outer_tierod_x = 1.763\n",
    "hub_outer_tierod_y = 3.046\n",
    "\n",
    "# wheels \n",
    "wheel_offset = 0.866\n",
    "tire_od = 16\n",
    "tire_width = 7.5\n",
    "wheel_diameter = 9.5\n",
    "tire_sidewall_compression = 0\n",
    "\n",
    "\n",
    "# give desired camber, KPI, scrub radius, find ideal points for suspension within a built in tolerance\n",
    "# different parameters between front and rear\n",
    "# changing frame points and control arm points to optimize kinematics"
   ]
  },
  {
   "cell_type": "markdown",
   "metadata": {},
   "source": [
    "<h3> Results </h3>"
   ]
  },
  {
   "cell_type": "code",
   "execution_count": 8,
   "metadata": {},
   "outputs": [
    {
     "name": "stdout",
     "output_type": "stream",
     "text": [
      "3.104\n"
     ]
    }
   ],
   "source": [
    "# frame mounting points\n",
    "bottom_left_frame_x = -frame_center_lowmount_x\n",
    "bottom_left_frame_y = ride_height\n",
    "bottom_right_frame_x = frame_center_lowmount_x\n",
    "bottom_right_frame_y = ride_height\n",
    "\n",
    "top_left_frame_x = -frame_center_upmount_x\n",
    "top_left_frame_y = ride_height + frame_height\n",
    "top_right_frame_x = frame_center_upmount_x\n",
    "top_right_frame_y = ride_height + frame_height\n",
    "\n",
    "# distance between upper and lower mounts calc\n",
    "upper_center_lowmount = np.sqrt((frame_center_lowmount_x)**2 + (frame_height)**2)\n",
    "dist_upmount_lowmount = np.sqrt((frame_center_lowmount_x - frame_center_upmount_x)**2 + (ride_height - top_right_frame_y)**2)\n",
    "angle_upmount_lowmount = np.arcsin(frame_height / dist_upmount_lowmount) * 180 / np.pi\n",
    "# print(np.round(dist_upmount_lowmount, 3))\n",
    "# print(np.round(angle_upmount_lowmount, 3))\n",
    "\n",
    "# control arm inclination calcs\n",
    "upper_right_inclination = np.arcsin(hub_upper_balljoint_y / UCA_length) * 180 / np.pi \n",
    "upper_left_inclination = upper_right_inclination\n",
    "lower_right_inclination = np.arcsin(hub_lower_balljoint_y / LCA_length) * 180 / np.pi\n",
    "lower_left_inclination = 0\n",
    "lower_left_inclination = np.arcsin((tire_od / 2 - hub_lower_balljoint_y - 3.75 + .35) / LCA_length) * 180 / np.pi # does not work\n",
    "print(np.round(lower_left_inclination, 3))"
   ]
  }
 ],
 "metadata": {
  "kernelspec": {
   "display_name": "Python 3.10.8 64-bit (microsoft store)",
   "language": "python",
   "name": "python3"
  },
  "language_info": {
   "codemirror_mode": {
    "name": "ipython",
    "version": 3
   },
   "file_extension": ".py",
   "mimetype": "text/x-python",
   "name": "python",
   "nbconvert_exporter": "python",
   "pygments_lexer": "ipython3",
   "version": "3.10.8"
  },
  "orig_nbformat": 4,
  "vscode": {
   "interpreter": {
    "hash": "43a3762b5ff15897be90fbe97deb733c41ee00ef656f7ead7b4a9f370ac2e576"
   }
  }
 },
 "nbformat": 4,
 "nbformat_minor": 2
}
