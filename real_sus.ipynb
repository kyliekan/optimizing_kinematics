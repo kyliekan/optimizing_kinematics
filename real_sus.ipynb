{
 "cells": [
  {
   "cell_type": "code",
   "execution_count": 18,
   "metadata": {},
   "outputs": [],
   "source": [
    "import pandas as pd\n",
    "import numpy as np"
   ]
  },
  {
   "cell_type": "markdown",
   "metadata": {},
   "source": [
    "<h1> Parameters </h1>"
   ]
  },
  {
   "cell_type": "code",
   "execution_count": 19,
   "metadata": {},
   "outputs": [],
   "source": [
    "# frame settings\n",
    "ride_height = 2.9\n",
    "frame_center_lowmount_x = 10.5\n",
    "frame_bottom_lowmount_y = 0\n",
    "frame_center_upmount_x = 11.8\n",
    "frame_height = 5.68\n",
    "\n",
    "# control arm settings\n",
    "UCA_length = 9\n",
    "LCA_length = 11\n",
    "\n",
    "# steering knuckles\n",
    "hub_upper_balljoint_x = 4.295\n",
    "hub_upper_balljoint_y = 3.63\n",
    "hub_lower_balljoint_x = 3.34\n",
    "hub_lower_balljoint_y = 4\n",
    "\n",
    "# steering\n",
    "consider = False\n",
    "hub_outer_tierod_x = 3\n",
    "hub_outer_tierod_y = 3\n",
    "\n",
    "# wheels\n",
    "wheel_offset = 0.866\n",
    "tire_od = 16\n",
    "tire_width = 7.5\n",
    "wheel_dia = 9.5\n",
    "tire_sidewall_compression = 0\n"
   ]
  },
  {
   "cell_type": "markdown",
   "metadata": {},
   "source": [
    "<h3> Results </h3>"
   ]
  },
  {
   "cell_type": "code",
   "execution_count": 27,
   "metadata": {},
   "outputs": [
    {
     "name": "stdout",
     "output_type": "stream",
     "text": [
      "5.827\n",
      "77.109\n"
     ]
    }
   ],
   "source": [
    "# frame mounting points\n",
    "bottom_left_frame_x = -frame_center_lowmount_x\n",
    "bottom_left_frame_y = ride_height\n",
    "bottom_right_frame_x = frame_center_lowmount_x\n",
    "bottom_right_frame_y = ride_height\n",
    "\n",
    "top_left_frame_x = -frame_center_upmount_x\n",
    "top_left_frame_y = ride_height + frame_height\n",
    "top_right_frame_x = frame_center_upmount_x\n",
    "top_right_frame_y = ride_height + frame_height\n",
    "\n",
    "# distance between upper and lower mounts calc\n",
    "upper_center_lowmount = np.sqrt((frame_center_lowmount_x)**2 + (frame_height)**2)\n",
    "dist_upmount_lowmount = np.sqrt((frame_center_lowmount_x - frame_center_upmount_x)**2 + (ride_height - top_right_frame_y)**2)\n",
    "angle_upmount_lowmount = np.arcsin(frame_height / dist_upmount_lowmount) * 180 / np.pi\n",
    "# print(np.round(dist_upmount_lowmount, 3))\n",
    "# print(np.round(angle_upmount_lowmount, 3))\n",
    "\n",
    "# control arm inclination calcs\n"
   ]
  }
 ],
 "metadata": {
  "kernelspec": {
   "display_name": "Python 3.10.8 64-bit (microsoft store)",
   "language": "python",
   "name": "python3"
  },
  "language_info": {
   "codemirror_mode": {
    "name": "ipython",
    "version": 3
   },
   "file_extension": ".py",
   "mimetype": "text/x-python",
   "name": "python",
   "nbconvert_exporter": "python",
   "pygments_lexer": "ipython3",
   "version": "3.10.8"
  },
  "orig_nbformat": 4,
  "vscode": {
   "interpreter": {
    "hash": "43a3762b5ff15897be90fbe97deb733c41ee00ef656f7ead7b4a9f370ac2e576"
   }
  }
 },
 "nbformat": 4,
 "nbformat_minor": 2
}
