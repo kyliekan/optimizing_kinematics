{
 "cells": [
  {
   "cell_type": "code",
   "execution_count": null,
   "metadata": {},
   "outputs": [],
   "source": [
    "import pandas as pd"
   ]
  }
 ],
 "metadata": {
  "kernelspec": {
   "display_name": "Python 3.10.8 64-bit (microsoft store)",
   "language": "python",
   "name": "python3"
  },
  "language_info": {
   "name": "python",
   "version": "3.10.8"
  },
  "orig_nbformat": 4,
  "vscode": {
   "interpreter": {
    "hash": "43a3762b5ff15897be90fbe97deb733c41ee00ef656f7ead7b4a9f370ac2e576"
   }
  }
 },
 "nbformat": 4,
 "nbformat_minor": 2
}
